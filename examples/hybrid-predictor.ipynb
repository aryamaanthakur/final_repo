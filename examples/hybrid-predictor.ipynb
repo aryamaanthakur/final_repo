{
 "cells": [
  {
   "cell_type": "markdown",
   "id": "3af46191-16de-4e6e-9c33-a750f0d95d3a",
   "metadata": {},
   "source": [
    "# Imports"
   ]
  },
  {
   "cell_type": "code",
   "execution_count": 1,
   "id": "5deb5327-bfa1-45b3-8854-68fb39359296",
   "metadata": {
    "tags": []
   },
   "outputs": [],
   "source": [
    "import warnings\n",
    "\n",
    "import yaml\n",
    "import numpy as np\n",
    "import pandas as pd\n",
    "\n",
    "from algorithms.xval_transformers.engine import Config\n",
    "from algorithms.xval_transformers.dataset import get_dataloaders, get_datasets\n",
    "from algorithms.hybrid import HybridPredictor\n",
    "\n",
    "warnings.filterwarnings('ignore')"
   ]
  },
  {
   "cell_type": "markdown",
   "id": "b446cb4c-e380-47cb-950a-4307965c2c59",
   "metadata": {},
   "source": [
    "# Config"
   ]
  },
  {
   "cell_type": "code",
   "execution_count": 2,
   "id": "a699069e-3b61-4d8d-b569-3e092c3cefb1",
   "metadata": {
    "tags": []
   },
   "outputs": [],
   "source": [
    "with open(\"config.yaml\", 'r') as file:\n",
    "    file_config = yaml.safe_load(file)\n",
    "    \n",
    "config = Config(**file_config)"
   ]
  },
  {
   "cell_type": "markdown",
   "id": "00faf4c8-90fc-4178-850d-21d273cc45d2",
   "metadata": {
    "tags": []
   },
   "source": [
    "# Data"
   ]
  },
  {
   "cell_type": "code",
   "execution_count": 3,
   "id": "c9e98155-68a2-4385-9796-c5cdf1a05d5b",
   "metadata": {},
   "outputs": [],
   "source": [
    "x = np.load('test_x.npy')\n",
    "y = np.load('test_y.npy')"
   ]
  },
  {
   "cell_type": "markdown",
   "id": "cfeca2bc-56cf-4296-b0bf-1076496c7a6f",
   "metadata": {},
   "source": [
    "# Predictor"
   ]
  },
  {
   "cell_type": "code",
   "execution_count": 4,
   "id": "ca5871fd-8054-4772-82f9-1512a61dafd3",
   "metadata": {
    "tags": []
   },
   "outputs": [],
   "source": [
    "predictor = HybridPredictor(config)"
   ]
  },
  {
   "cell_type": "code",
   "execution_count": 5,
   "id": "7c819c2b-83d7-4496-a13b-283d32b931b5",
   "metadata": {
    "tags": []
   },
   "outputs": [
    {
     "name": "stdout",
     "output_type": "stream",
     "text": [
      "gen\tnevals\tavg        \tstd        \tmin    \tmax        \n",
      "0  \t0     \t1.13502e+97\t2.53544e+98\t10.6085\t5.67508e+99\n",
      "1  \t382   \t1.51305e+55\t3.37991e+56\t3.05428e-13\t7.56527e+57\n",
      "2  \t384   \t4.19202e+16\t9.36232e+17\t3.05428e-13\t2.09558e+19\n",
      "3  \t405   \t5.41224e+80\t1.209e+82  \t3.05428e-13\t2.70612e+83\n",
      "4  \t378   \tinf        \tnan        \t3.05428e-13\tinf        \n",
      "5  \t378   \t2.52035e+13\t4.912e+14  \t3.05428e-13\t1.09362e+16\n",
      "6  \t385   \tinf        \tnan        \t3.05428e-13\tinf        \n",
      "7  \t378   \t6.53904e+49\t1.46071e+51\t3.05428e-13\t3.26952e+52\n",
      "8  \t388   \tinf        \tnan        \t3.05428e-13\tinf        \n",
      "9  \t387   \t1.289e+12  \t2.25668e+13\t3.05428e-13\t4.768e+14  \n",
      "10 \t389   \t2.04326e+67\t4.56429e+68\t3.05428e-13\t1.02163e+70\n",
      "11 \t368   \t8.49392e+66\t1.8974e+68 \t3.05428e-13\t4.24696e+69\n",
      "12 \t362   \t1.796e+11  \t4.01196e+12\t3.05428e-13\t8.98e+13   \n",
      "13 \t403   \t3.87403e+42\t8.65393e+43\t3.05428e-13\t1.93701e+45\n",
      "14 \t384   \t5.37628e+66\t1.20097e+68\t3.05428e-13\t2.68814e+69\n",
      "15 \t378   \t3.82233e+16\t8.53799e+17\t3.05428e-13\t1.91106e+19\n",
      "R2_score: 1.0\n",
      "Fitness: (3.0542830002969194e-13,)\n"
     ]
    }
   ],
   "source": [
    "eqn, r2 = predictor.predict_equation(x, y)"
   ]
  },
  {
   "cell_type": "code",
   "execution_count": 6,
   "id": "8ad05e71-d7e5-47d8-a6d6-7c9b31388d7d",
   "metadata": {
    "tags": []
   },
   "outputs": [
    {
     "data": {
      "text/latex": [
       "$\\displaystyle s_{1} s_{2} \\sin{\\left(s_{3} \\right)}$"
      ],
      "text/plain": [
       "s_1*s_2*sin(s_3)"
      ]
     },
     "execution_count": 6,
     "metadata": {},
     "output_type": "execute_result"
    }
   ],
   "source": [
    "eqn"
   ]
  },
  {
   "cell_type": "code",
   "execution_count": null,
   "id": "3541c9a6-2ef5-469e-a007-d09e22c310d0",
   "metadata": {},
   "outputs": [],
   "source": []
  }
 ],
 "metadata": {
  "kernelspec": {
   "display_name": "pytorch-2.3.1",
   "language": "python",
   "name": "pytorch-2.3.1"
  },
  "language_info": {
   "codemirror_mode": {
    "name": "ipython",
    "version": 3
   },
   "file_extension": ".py",
   "mimetype": "text/x-python",
   "name": "python",
   "nbconvert_exporter": "python",
   "pygments_lexer": "ipython3",
   "version": "3.11.9"
  }
 },
 "nbformat": 4,
 "nbformat_minor": 5
}
