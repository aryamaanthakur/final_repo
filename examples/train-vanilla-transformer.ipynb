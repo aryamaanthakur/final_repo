{
 "cells": [
  {
   "cell_type": "markdown",
   "id": "31bc99c2-2c49-4a8c-8099-c97972533a4c",
   "metadata": {},
   "source": [
    "# Imports"
   ]
  },
  {
   "cell_type": "code",
   "execution_count": 1,
   "id": "cafb434a-a42f-4e74-9a6d-b4e04ca0140d",
   "metadata": {
    "tags": []
   },
   "outputs": [],
   "source": [
    "import warnings\n",
    "import yaml\n",
    "import pandas as pd\n",
    "\n",
    "from algorithms.transformers.engine import Config, Trainer\n",
    "from algorithms.transformers.dataset import get_dataloaders, get_datasets\n",
    "\n",
    "warnings.filterwarnings('ignore')"
   ]
  },
  {
   "cell_type": "markdown",
   "id": "0201b7c0-f321-4c11-985e-6d750a36b0d4",
   "metadata": {},
   "source": [
    "# Config"
   ]
  },
  {
   "cell_type": "code",
   "execution_count": 2,
   "id": "c9647403-590b-4e5e-a09a-1605eb8fa55c",
   "metadata": {
    "tags": []
   },
   "outputs": [
    {
     "name": "stdout",
     "output_type": "stream",
     "text": [
      "==================================================\n",
      "Config\n",
      "==================================================\n",
      "experiment_name                test2\n",
      "root_dir                       /pscratch/sd/a/aryamaan\n",
      "device                         cuda:0\n",
      "train_batch_size               256\n",
      "test_batch_size                256\n",
      "train_split                    0.8\n",
      "test_split                     0.1\n",
      "primary_df                     ./FeynmanEquationsModified.csv\n",
      "train_df                       ./data_new/train_df.csv\n",
      "data_dir                       ./data_new\n",
      "epochs                         1\n",
      "seed                           42\n",
      "use_half_precision             True\n",
      "scheduler_type                 cosine_annealing\n",
      "T_0                            10\n",
      "T_mult                         1\n",
      "T_max                          125000\n",
      "optimizer_type                 adam\n",
      "optimizer_lr                   5e-05\n",
      "optimizer_momentum             0.9\n",
      "optimizer_weight_decay         0.0001\n",
      "clip_grad_norm                 -1\n",
      "model_name                     seq2seq_transformer\n",
      "hybrid                         True\n",
      "embedding_size                 64\n",
      "hidden_dim                     64\n",
      "nhead                          8\n",
      "num_encoder_layers             2\n",
      "num_decoder_layers             6\n",
      "dropout                        0.2\n",
      "input_emb_size                 64\n",
      "max_input_points               33\n",
      "src_vocab_size                 1104\n",
      "tgt_vocab_size                 59\n",
      "criterion                      cross_entropy\n",
      "xval                           True\n",
      "pop_size                       500\n",
      "cxpb                           0.7\n",
      "mutpb                          0.2\n",
      "num_generations                15\n",
      "gp_verbose                     True\n",
      "chunk_size                     400\n",
      "beam_size                      5\n",
      "num_equations                  20\n",
      "==================================================\n"
     ]
    }
   ],
   "source": [
    "with open(\"config.yaml\", 'r') as file:\n",
    "    file_config = yaml.safe_load(file)\n",
    "    \n",
    "config = Config(**file_config)\n",
    "config.print_config()"
   ]
  },
  {
   "cell_type": "markdown",
   "id": "cb3e5545-c28d-411f-bd02-e7403e7b1a59",
   "metadata": {},
   "source": [
    "# Dataset"
   ]
  },
  {
   "cell_type": "code",
   "execution_count": 3,
   "id": "35fc387d-86bd-4ae2-863c-ae5e1641a4f6",
   "metadata": {
    "tags": []
   },
   "outputs": [],
   "source": [
    "df = pd.read_csv(config.primary_df)\n",
    "input_df = pd.read_csv(config.train_df)"
   ]
  },
  {
   "cell_type": "code",
   "execution_count": 4,
   "id": "1d662624-19d5-4576-b5d5-bd49b9e3b2a6",
   "metadata": {
    "tags": []
   },
   "outputs": [],
   "source": [
    "datasets, train_equations, test_equations = get_datasets(\n",
    "    df,\n",
    "    input_df,\n",
    "    config.data_dir,\n",
    "    [0.8, 0.1, 0.1] # train-val-test split\n",
    ")"
   ]
  },
  {
   "cell_type": "code",
   "execution_count": 5,
   "id": "5ad129c3-e89b-4389-9144-e5e913a4f4e4",
   "metadata": {
    "tags": []
   },
   "outputs": [],
   "source": [
    "dataloaders = get_dataloaders(\n",
    "    datasets,\n",
    "    config.train_batch_size,\n",
    "    config.train_batch_size,\n",
    "    config.test_batch_size\n",
    ")"
   ]
  },
  {
   "cell_type": "markdown",
   "id": "6cf195a6-756c-4ac8-a89d-e3d5cf266163",
   "metadata": {},
   "source": [
    "# Train"
   ]
  },
  {
   "cell_type": "code",
   "execution_count": 6,
   "id": "969fa800-f070-4f99-8c84-daa5d17487b5",
   "metadata": {
    "tags": []
   },
   "outputs": [
    {
     "name": "stderr",
     "output_type": "stream",
     "text": [
      "[1/1] Train: 100%|██████████| 782/782 [06:42<00:00,  1.94it/s, loss=0.976]\n",
      "[1/1] Valid: 100%|██████████| 98/98 [00:50<00:00,  1.94it/s]"
     ]
    },
    {
     "name": "stdout",
     "output_type": "stream",
     "text": [
      "==> Best Accuracy improved to 0.8779107 from -1\n"
     ]
    },
    {
     "name": "stderr",
     "output_type": "stream",
     "text": [
      "\n"
     ]
    }
   ],
   "source": [
    "trainer = Trainer(config, dataloaders)\n",
    "trainer.train() # demonstration for 1 epoch only"
   ]
  },
  {
   "cell_type": "markdown",
   "id": "5be5ad41-d2bb-4414-a72d-fc0b41189935",
   "metadata": {},
   "source": [
    "# Test"
   ]
  },
  {
   "cell_type": "code",
   "execution_count": 7,
   "id": "8b53d47b-4372-4593-814b-1471a6b8638a",
   "metadata": {
    "tags": []
   },
   "outputs": [
    {
     "name": "stderr",
     "output_type": "stream",
     "text": [
      "[1/1] Test: 100%|██████████| 98/98 [00:42<00:00,  2.33it/s]\n"
     ]
    },
    {
     "name": "stdout",
     "output_type": "stream",
     "text": [
      "Calculating Sequence Accuracy for predictions (1 example per batch)\n"
     ]
    },
    {
     "name": "stderr",
     "output_type": "stream",
     "text": [
      "Test: 100%|██████████| 98/98 [01:19<00:00,  1.24it/s]"
     ]
    },
    {
     "name": "stdout",
     "output_type": "stream",
     "text": [
      "Test Accuracy: 0.7023745 | Valid Accuracy: -1\n",
      "Test Sequence Accuracy: 0.0\n"
     ]
    },
    {
     "name": "stderr",
     "output_type": "stream",
     "text": [
      "\n"
     ]
    }
   ],
   "source": [
    "trainer.test_seq_acc()"
   ]
  },
  {
   "cell_type": "code",
   "execution_count": null,
   "id": "0be218b8-c516-46be-a0e8-772ab9de2a9a",
   "metadata": {},
   "outputs": [],
   "source": []
  }
 ],
 "metadata": {
  "kernelspec": {
   "display_name": "pytorch-2.3.1",
   "language": "python",
   "name": "pytorch-2.3.1"
  },
  "language_info": {
   "codemirror_mode": {
    "name": "ipython",
    "version": 3
   },
   "file_extension": ".py",
   "mimetype": "text/x-python",
   "name": "python",
   "nbconvert_exporter": "python",
   "pygments_lexer": "ipython3",
   "version": "3.11.9"
  }
 },
 "nbformat": 4,
 "nbformat_minor": 5
}
